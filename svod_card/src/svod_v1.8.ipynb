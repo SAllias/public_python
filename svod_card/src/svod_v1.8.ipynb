{
 "cells": [
  {
   "cell_type": "markdown",
   "id": "c318f52b",
   "metadata": {},
   "source": [
    "$$Гайд$$\n",
    "    $$(1)$$ Для создания отчета берется текущий месяц и 28 дней включительно следующего месяца.\n",
    "    $$(2)$$ При формировании отчета указываются даты для отсчета указывается первое число текущего месяца, далее указывается первая дата следующего месяца (для анализа текущего месяца).\n",
    "    $$(3)$$ Не допускается использовать спец символ \"/\", только в другую сторону. А указанный символ \"/\", использовать можно.\n"
   ]
  },
  {
   "cell_type": "markdown",
   "id": "d58d5918",
   "metadata": {},
   "source": [
    "$$Доработки$$\n",
    "v1.7 $$(1)$$ изменен блок по загрузке файлов, теперь необходимо указать в какой папке находятся файлы для загрузки. Если в данной папке есть файлы других форматов, то можно указать расширение искомых файлов. Если в папке нет лишних файлов и папок, то можно поставить символ \".\". Поиск работает, как регулярка.\n",
    "     $$(2)$$ изменен ввод даты, теперь оно вводятся при запуске программы, а не правятся в самой программе.\n",
    "     $$(3)$$ Блок с вопросами и пред обработки для загрузки будущих баз перемещены вверх кода.\n",
    "     $$(4)$$ Выгрузка в файл unikal_terminal перечень Уникальных терминалов.\n",
    "     $$(5)$$ В блоке Стоп-листа название столбца измененно с \"нам нужны 1 и более\" на \"нам нужны 2 и более\""
   ]
  },
  {
   "cell_type": "markdown",
   "id": "d40a732e",
   "metadata": {},
   "source": [
    "    Загружаем библиотеки с формулами/функциями для последующих вычислений"
   ]
  },
  {
   "cell_type": "code",
   "execution_count": 1,
   "id": "6d27c848",
   "metadata": {},
   "outputs": [],
   "source": [
    "import numpy as np #для работы с вычислениями\n",
    "import pandas as pd #для работы с матрицами\n",
    "import re #для поиска нужных значений в ячейках матрицы\n",
    "from datetime import datetime, timedelta #для работы с датыми"
   ]
  },
  {
   "cell_type": "markdown",
   "id": "f5212d9b",
   "metadata": {},
   "source": [
    "Загрузка списка баз для анализа в переменную down"
   ]
  },
  {
   "cell_type": "code",
   "execution_count": 2,
   "id": "25a2365d",
   "metadata": {},
   "outputs": [],
   "source": [
    "import os\n",
    "import win32api\n",
    "import pandas as pd\n",
    "import numpy as np"
   ]
  },
  {
   "cell_type": "code",
   "execution_count": null,
   "id": "5c9519d6",
   "metadata": {},
   "outputs": [],
   "source": [
    "paths_1 = input('Поиск будет осуществлен от расположения программы.\\nУкажите из какой папки загружать файл\\n(например, Загрузка\\январь и февраль 2022): ')\n",
    "extension = input('Укажите какое расширение у файлов (например, xlsx либо xls):\\n')\n",
    "paths_2 = './' + paths_1\n",
    "\n",
    "Data_dlay_proverki = input('Дата текущего месяца (формат, ГГГГ-ММ, 2024-12): ')\n",
    "Data_dlay_analiza_baza = input('Дата следующего месяца (формат, ГГГГ-ММ, 2025-01): ')\n",
    "Data_dlay_proverki = Data_dlay_proverki + '-01'\n",
    "Data_dlay_analiza_baza = Data_dlay_analiza_baza + '-01'"
   ]
  },
  {
   "cell_type": "code",
   "execution_count": 4,
   "id": "47cf6831",
   "metadata": {},
   "outputs": [],
   "source": [
    "if paths_1.find(':') != -1: #Проверяет есть ли в указанном адресе \":\", если его нет, то функция find() примет значение -1.\n",
    "    down = pd.DataFrame([os.listdir(paths_1)]).T #создание матрицы со списком по указанному пути,\n",
    "                                                 #далее список преобразуется в столбец\n",
    "    down = down[down.iloc[:,0].str.contains(extension)] #Фильтруется список на содержание\n",
    "                                                        #конкретных символов, указанных в переменной extension\n",
    "    paths_3 = paths_1\n",
    "else:\n",
    "    down = pd.DataFrame([os.listdir(paths_2)]).T\n",
    "    down = down[down.iloc[:,0].str.contains(extension)]\n",
    "    paths_3 = paths_2\n",
    "\n",
    "if paths_3[-1:] != '/': #добавляет в конце символ \"/\" если путь к файлам указан без закрывающего символа \"/\"\n",
    "    paths_3 = paths_3 + '/'"
   ]
  },
  {
   "cell_type": "code",
   "execution_count": null,
   "id": "14329092",
   "metadata": {},
   "outputs": [],
   "source": [
    "#Data_dlay_proverki = '2022-03-01' #Вводиться выше, при работе программы\n",
    "Data_dlay_proverki = datetime.strptime(Data_dlay_proverki, \"%Y-%m-%d\")\n",
    "Minus_day = pd.DataFrame([Data_dlay_proverki - timedelta(days=28)])\n",
    "\n",
    "#Data_dlay_analiza_baza = '2022-04-01' #Вводиться выше, при работе программы\n",
    "Data_dlay_analiza_baza = pd.DataFrame([datetime.strptime(Data_dlay_analiza_baza, \"%Y-%m-%d\")])\n",
    "\n",
    "Minus_day.head()"
   ]
  },
  {
   "cell_type": "markdown",
   "id": "db7571fe",
   "metadata": {},
   "source": [
    "    Загрузка Баз:"
   ]
  },
  {
   "cell_type": "code",
   "execution_count": 6,
   "id": "e699ac04",
   "metadata": {},
   "outputs": [
    {
     "name": "stderr",
     "output_type": "stream",
     "text": [
      "C:\\Users\\Mikhail\\anaconda3\\lib\\site-packages\\openpyxl\\styles\\stylesheet.py:226: UserWarning: Workbook contains no default style, apply openpyxl's default\n",
      "  warn(\"Workbook contains no default style, apply openpyxl's default\")\n"
     ]
    }
   ],
   "source": [
    "i = 0\n",
    "for x in down[0]:\n",
    "    if i == 0:\n",
    "        baza = pd.read_excel(paths_3 + str(x))\n",
    "    if i > 0:\n",
    "        baza2 = pd.read_excel(paths_3 + str(x))\n",
    "        baza = pd.concat([baza, baza2])\n",
    "    i += 1"
   ]
  },
  {
   "cell_type": "markdown",
   "id": "86309172",
   "metadata": {},
   "source": [
    "    Предварительный просмотр базы - первых 5 строк:"
   ]
  },
  {
   "cell_type": "code",
   "execution_count": null,
   "id": "3a78bc92",
   "metadata": {},
   "outputs": [],
   "source": [
    "baza.head()"
   ]
  },
  {
   "cell_type": "code",
   "execution_count": 8,
   "id": "25e2b258",
   "metadata": {},
   "outputs": [
    {
     "data": {
      "text/plain": [
       "(22309067, 27)"
      ]
     },
     "execution_count": 8,
     "metadata": {},
     "output_type": "execute_result"
    }
   ],
   "source": [
    "baza.shape"
   ]
  },
  {
   "cell_type": "code",
   "execution_count": 9,
   "id": "134ab08e",
   "metadata": {},
   "outputs": [],
   "source": [
    "baza = baza.astype({'Номер заказа': str})"
   ]
  },
  {
   "cell_type": "code",
   "execution_count": 10,
   "id": "ac96831b",
   "metadata": {},
   "outputs": [],
   "source": [
    "baza2 = baza[pd.to_datetime(baza['Дата']) < Data_dlay_analiza_baza.iloc[0, 0]]"
   ]
  },
  {
   "cell_type": "code",
   "execution_count": 11,
   "id": "5210c85b",
   "metadata": {},
   "outputs": [
    {
     "data": {
      "text/plain": [
       "(11822712, 27)"
      ]
     },
     "execution_count": 11,
     "metadata": {},
     "output_type": "execute_result"
    }
   ],
   "source": [
    "baza2.shape"
   ]
  },
  {
   "cell_type": "code",
   "execution_count": null,
   "id": "2a5d641d",
   "metadata": {},
   "outputs": [],
   "source": [
    "baza2.head()"
   ]
  },
  {
   "cell_type": "markdown",
   "id": "281dbdf2",
   "metadata": {},
   "source": [
    "                                                        1_1"
   ]
  },
  {
   "cell_type": "code",
   "execution_count": 13,
   "id": "1d36b8b3",
   "metadata": {},
   "outputs": [],
   "source": [
    "file_1_1 = baza[(baza['Номер заказа'].str.contains('_') == False) & baza['Состояние'].str.contains('Отклонён')]\n",
    "file_1_1 = file_1_1[pd.to_datetime(file_1_1['Дата']) < Data_dlay_analiza_baza.iloc[0, 0]]\n",
    "file_1_1.index = pd.Series(np.arange(0,(file_1_1.shape)[0],1)) #Делаем индексы от нуля до конца новой базы.\n",
    "file_1_1 = file_1_1.astype({'Код ответа процессинга': str}) #Далее делаем строки текстовыми,\n",
    "file_1_1 = file_1_1.astype({'Процессинг': str})             #чтобы не округлялись.\n",
    "file_1_1 = file_1_1.astype({'fare_id': str})"
   ]
  },
  {
   "cell_type": "markdown",
   "id": "2efaef82",
   "metadata": {},
   "source": [
    "                                                        1_2"
   ]
  },
  {
   "cell_type": "code",
   "execution_count": 14,
   "id": "328ee4d3",
   "metadata": {},
   "outputs": [],
   "source": [
    "file_1_2 = baza[baza['Номер заказа'].str.contains('_') & baza['Состояние'].str.contains('Завершён')]\n",
    "file_1_2.index = pd.Series(np.arange(0,(file_1_2.shape)[0],1)) #Делаем индексы от нуля до конца новой базы.\n",
    "file_1_2 = file_1_2.astype({'Код ответа процессинга': str}) #Далее делаем строки текстовыми,\n",
    "file_1_2 = file_1_2.astype({'Процессинг': str})             #чтобы не округлялись.\n",
    "file_1_2 = file_1_2.astype({'fare_id': str})"
   ]
  },
  {
   "cell_type": "markdown",
   "id": "f84b68c3",
   "metadata": {},
   "source": [
    "                                                        3_3"
   ]
  },
  {
   "cell_type": "code",
   "execution_count": 15,
   "id": "9c482f1d",
   "metadata": {},
   "outputs": [],
   "source": [
    "file_3_3 = baza[baza['Номер заказа'].str.contains('manual') & baza['Состояние'].str.contains('Завершён')]\n",
    "file_3_3.index = pd.Series(np.arange(0,(file_3_3.shape)[0],1)) #Делаем индексы от нуля до конца новой базы.\n",
    "file_3_3 = file_3_3.astype({'Код ответа процессинга': str}) #Далее делаем строки текстовыми,\n",
    "file_3_3 = file_3_3.astype({'Процессинг': str})             #чтобы не округлялись.\n",
    "file_3_3 = file_3_3.astype({'fare_id': str})"
   ]
  },
  {
   "cell_type": "markdown",
   "id": "74d8c36a",
   "metadata": {},
   "source": [
    "$$manual$$"
   ]
  },
  {
   "cell_type": "code",
   "execution_count": 16,
   "id": "57342cb2",
   "metadata": {},
   "outputs": [],
   "source": [
    "file_3_3_data = file_3_3\n",
    "file_3_3_data['terminal_date2'] = pd.to_datetime(file_3_3['terminal_date'].astype(str).str[:10], format='%Y.%m.%d').copy()\n",
    "file_3_3_data_min_or_ravno_28day = file_3_3_data[file_3_3_data['terminal_date2'] <= Minus_day.iloc[0,0]].copy()\n",
    "file_3_3_data_max_28day = file_3_3_data[file_3_3_data['terminal_date2'] > Minus_day.iloc[0,0]].copy()"
   ]
  },
  {
   "cell_type": "markdown",
   "id": "eb334070",
   "metadata": {},
   "source": [
    "                                            Свод по общему файлу и manual:"
   ]
  },
  {
   "cell_type": "code",
   "execution_count": null,
   "id": "df7ca43a",
   "metadata": {},
   "outputs": [],
   "source": [
    "svod = pd.DataFrame({'Общий файл': [str(baza2['Сумма'].count()), str(baza2['Сумма'].sum())],\n",
    "                     'manual': [file_3_3_data_min_or_ravno_28day['Сумма'].count(), file_3_3_data_min_or_ravno_28day['Сумма'].sum()]},\n",
    "                     index = ['Количество','Сумма'])\n",
    "svod.to_excel('./svod.xlsx', sheet_name='svod') #выгружаем результат\n",
    "print('Дата за минусом 28 дней: ', Minus_day.iloc[0, 0], end = '\\n\\n')\n",
    "print(svod)"
   ]
  },
  {
   "cell_type": "markdown",
   "id": "cbfc8741",
   "metadata": {},
   "source": [
    "$$Недоавторизованные$$"
   ]
  },
  {
   "cell_type": "code",
   "execution_count": 18,
   "id": "1ad283d0",
   "metadata": {},
   "outputs": [],
   "source": [
    "proverka = file_1_2\n",
    "proverka['Номер заказа2'] = proverka['Номер заказа']\n",
    "proverka2 = proverka.drop(proverka.iloc[:, 1:23], axis = 1)\n",
    "proverka3 = proverka2\n",
    "file_1_1 = file_1_1.astype({'Номер заказа': str})             #чтобы не округлялись.\n",
    "proverka2 = proverka2.astype({'Номер заказа': str})\n",
    "i = 0\n",
    "for x2 in proverka2['Номер заказа']:\n",
    "    proverka3.iloc[i,0] = (pd.DataFrame([x2[0: x2.find('_')]])).iloc[0,0]\n",
    "    i += 1\n",
    "file_1_3_v1 = pd.merge(file_1_1, proverka3, on='Номер заказа', how='left')\n",
    "file_1_3_v1 = file_1_3_v1.fillna('пусто')\n",
    "file_1_3_vND = file_1_3_v1.loc[file_1_3_v1['Номер заказа2'] == 'пусто']\n",
    "file_1_3_vSTOP = file_1_3_v1.loc[file_1_3_v1['Номер заказа2'] != 'пусто']"
   ]
  },
  {
   "cell_type": "code",
   "execution_count": null,
   "id": "811f5f8d",
   "metadata": {},
   "outputs": [],
   "source": [
    "file_1_3_vND.head()"
   ]
  },
  {
   "cell_type": "markdown",
   "id": "a2ac64b9",
   "metadata": {},
   "source": [
    "                                                           Стоп лист"
   ]
  },
  {
   "cell_type": "code",
   "execution_count": 24,
   "id": "4518cfab",
   "metadata": {},
   "outputs": [],
   "source": [
    "file_3_1_vND = file_1_3_vND.copy()\n",
    "file_3_1_vND['Дата2'] = pd.to_datetime(file_3_1_vND['Дата'].astype(str).str[:10], format='%Y.%m.%d')\n",
    "file_3_1_vND['terminal_date2'] = pd.to_datetime(file_3_1_vND['terminal_date_x'].astype(str).str[:10], format='%Y-%m-%d')\n",
    "\n",
    "file_3_1_vND_svod_min = file_3_1_vND.groupby(['pan_hash'])['terminal_date2'].min().copy()\n",
    "file_3_1_vND_VPR_min = pd.merge(file_3_1_vND, file_3_1_vND_svod_min, on = 'pan_hash', how = 'left').copy()\n",
    "\n",
    "file_3_1_vND = file_3_1_vND_VPR_min.copy()\n",
    "file_3_1_vND['нам нужны 1 и более'] = file_3_1_vND['terminal_date2_x'] - file_3_1_vND['terminal_date2_y']\n",
    "file_3_1_vND_STOPlist = file_3_1_vND[file_3_1_vND['нам нужны 1 и более'] > '0 day'].copy()"
   ]
  },
  {
   "cell_type": "markdown",
   "id": "bb5ac406",
   "metadata": {},
   "source": [
    "$$После24ч$$"
   ]
  },
  {
   "cell_type": "code",
   "execution_count": 25,
   "id": "75f983a5",
   "metadata": {},
   "outputs": [],
   "source": [
    "file_3_2 = file_1_3_vND.copy()\n",
    "file_3_2['Дата2'] = pd.to_datetime(file_3_2['Дата'].astype(str).str[:10], format='%Y.%m.%d')\n",
    "file_3_2['terminal_date2'] = pd.to_datetime(file_3_2['terminal_date_x'].astype(str).str[:10], format='%Y-%m-%d')\n",
    "file_3_2['нам нужны 2 и более'] = file_3_2['Дата2'] - file_3_2['terminal_date2']\n",
    "file_3_2 = file_3_2[file_3_2['нам нужны 2 и более'] >= '2 day'].copy()"
   ]
  },
  {
   "cell_type": "markdown",
   "id": "07045bea",
   "metadata": {},
   "source": [
    "$$Код03$$"
   ]
  },
  {
   "cell_type": "code",
   "execution_count": 26,
   "id": "f6c2f168",
   "metadata": {},
   "outputs": [],
   "source": [
    "file_3_4 = file_1_3_vND[file_1_3_vND['Оригинальный код ответа процессинга'] == '03']\n",
    "file_3_4_unikal = file_3_4.groupby(['Терминал'])['Терминал'].unique()"
   ]
  },
  {
   "cell_type": "markdown",
   "id": "abfc2de9",
   "metadata": {},
   "source": [
    "                                                        Выгрузка файлов:"
   ]
  },
  {
   "cell_type": "code",
   "execution_count": 27,
   "id": "cdde8602",
   "metadata": {},
   "outputs": [],
   "source": [
    "file_1_1.to_excel('./1_1.xlsx', sheet_name='1_1', index=False) #1_1\n",
    "file_1_2.to_excel('./1_2.xlsx', sheet_name='1_2', index=False) #1_2\n",
    "file_3_3.to_excel('./3_3.xlsx', sheet_name='3_3', index=False) #3_3 - только фильтры по manual\n",
    "\n",
    "file_1_3_vND.to_excel('./Недоавторизованные.xlsx', sheet_name='Недоавтор', index=False) #Недоавторизованные\n",
    "file_3_1_vND_STOPlist.to_excel('./Стоп лист.xlsx', sheet_name='Стоп лист', index=False) #Стоп лист\n",
    "file_3_2.to_excel('./После24ч.xlsx', sheet_name='После24ч', index=False) #После24ч\n",
    "file_3_3_data_min_or_ravno_28day.to_excel('./manual.xlsx', sheet_name='manual', index=False) #manual\n",
    "file_3_4.to_excel('./Код03.xlsx', sheet_name='Код03', index=False) #Код03"
   ]
  },
  {
   "cell_type": "markdown",
   "id": "372e222b",
   "metadata": {},
   "source": [
    "                                                    Свод2 по всем значениям:"
   ]
  },
  {
   "cell_type": "code",
   "execution_count": null,
   "id": "85668cdb",
   "metadata": {},
   "outputs": [],
   "source": [
    "svod2 = pd.DataFrame({'Общий файл': [str(baza2['Сумма'].count()), str(baza2['Сумма'].sum())],\n",
    "                     'Недоавторизованные': [file_1_3_vND['Сумма'].count(), file_1_3_vND['Сумма'].sum()],\n",
    "                     'Стоп лист': [file_3_1_vND_STOPlist['Сумма'].count(), file_3_1_vND_STOPlist['Сумма'].sum()],\n",
    "                     'После24ч': [file_3_2['Сумма'].count(), file_3_2['Сумма'].sum()],\n",
    "                     'manual': [file_3_3_data_min_or_ravno_28day['Сумма'].count(), file_3_3_data_min_or_ravno_28day['Сумма'].sum()],\n",
    "                     'Код03': [file_3_4['Сумма'].count(), file_3_4['Сумма'].sum()],},\n",
    "                     index = ['Количество','Сумма'])\n",
    "svod2.to_excel('./svod2.xlsx', sheet_name='svod2') #выгружаем результат\n",
    "file_3_4_unikal.to_excel('./unikal_terminal.xlsx', sheet_name='unikal_t', index=False) #выгружаем уникальные терминалы\n",
    "print('Дата за минусом 28 дней: ', Minus_day.iloc[0, 0], end = '\\n')\n",
    "print('Дата для анализа: ', Data_dlay_analiza_baza.iloc[0, 0], end = '\\n\\n')\n",
    "print(svod2)\n",
    "print('\\nУникальные терминалы: ', file_3_4_unikal.index)"
   ]
  },
  {
   "cell_type": "code",
   "execution_count": null,
   "id": "ac2c1fc1",
   "metadata": {},
   "outputs": [],
   "source": []
  }
 ],
 "metadata": {
  "kernelspec": {
   "display_name": "Python 3 (ipykernel)",
   "language": "python",
   "name": "python3"
  },
  "language_info": {
   "codemirror_mode": {
    "name": "ipython",
    "version": 3
   },
   "file_extension": ".py",
   "mimetype": "text/x-python",
   "name": "python",
   "nbconvert_exporter": "python",
   "pygments_lexer": "ipython3",
   "version": "3.9.7"
  }
 },
 "nbformat": 4,
 "nbformat_minor": 5
}
